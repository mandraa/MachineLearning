{
  "nbformat": 4,
  "nbformat_minor": 0,
  "metadata": {
    "colab": {
      "provenance": [],
      "gpuType": "T4",
      "authorship_tag": "ABX9TyOZ0pUTY3X5opplI4mPcULy",
      "include_colab_link": true
    },
    "kernelspec": {
      "name": "python3",
      "display_name": "Python 3"
    },
    "language_info": {
      "name": "python"
    },
    "accelerator": "GPU"
  },
  "cells": [
    {
      "cell_type": "markdown",
      "metadata": {
        "id": "view-in-github",
        "colab_type": "text"
      },
      "source": [
        "<a href=\"https://colab.research.google.com/github/mandraa/MachineLearning/blob/main/Job_Sheet_10_RNN.ipynb\" target=\"_parent\"><img src=\"https://colab.research.google.com/assets/colab-badge.svg\" alt=\"Open In Colab\"/></a>"
      ]
    },
    {
      "cell_type": "markdown",
      "source": [
        "Nama  : Juniar Andra Permana\n",
        "\n",
        "Kls  : TI3G\n",
        "\n",
        "NIM  : 2141720214"
      ],
      "metadata": {
        "id": "-bu9vHvh6Oso"
      }
    },
    {
      "cell_type": "markdown",
      "source": [
        "**PRAKTIKUM 1**"
      ],
      "metadata": {
        "id": "DVFRdBspTb7Q"
      }
    },
    {
      "cell_type": "code",
      "execution_count": 3,
      "metadata": {
        "id": "lrSzNNyr54CC"
      },
      "outputs": [],
      "source": [
        "import numpy as np\n",
        "import tensorflow_datasets as tfds\n",
        "import tensorflow as tf\n",
        "\n",
        "tfds.disable_progress_bar()"
      ]
    },
    {
      "cell_type": "code",
      "source": [
        "import matplotlib.pyplot as plt\n",
        "\n",
        "def plot_graphs(history, metric):\n",
        "  plt.plot(history.history[metric])\n",
        "  plt.plot(history.history['val_'+metric], '')\n",
        "  plt.xlabel(\"Epochs\")\n",
        "  plt.ylabel(metric)\n",
        "  plt.legend([metric, 'val_'+metric])"
      ],
      "metadata": {
        "id": "GYBR5sa0B9bj"
      },
      "execution_count": 4,
      "outputs": []
    },
    {
      "cell_type": "markdown",
      "source": [
        "Setup input pipeline"
      ],
      "metadata": {
        "id": "0ti9WYtYEkZ8"
      }
    },
    {
      "cell_type": "code",
      "source": [
        "dataset, info = tfds.load('imdb_reviews', with_info=True,\n",
        "                          as_supervised=True)\n",
        "train_dataset, test_dataset = dataset['train'], dataset['test']\n",
        "\n",
        "train_dataset.element_spec"
      ],
      "metadata": {
        "colab": {
          "base_uri": "https://localhost:8080/"
        },
        "id": "85Imu23KE9DQ",
        "outputId": "623795c0-8f09-49e5-a54e-f24e48180f60"
      },
      "execution_count": 5,
      "outputs": [
        {
          "output_type": "stream",
          "name": "stdout",
          "text": [
            "Downloading and preparing dataset 80.23 MiB (download: 80.23 MiB, generated: Unknown size, total: 80.23 MiB) to /root/tensorflow_datasets/imdb_reviews/plain_text/1.0.0...\n",
            "Dataset imdb_reviews downloaded and prepared to /root/tensorflow_datasets/imdb_reviews/plain_text/1.0.0. Subsequent calls will reuse this data.\n"
          ]
        },
        {
          "output_type": "execute_result",
          "data": {
            "text/plain": [
              "(TensorSpec(shape=(), dtype=tf.string, name=None),\n",
              " TensorSpec(shape=(), dtype=tf.int64, name=None))"
            ]
          },
          "metadata": {},
          "execution_count": 5
        }
      ]
    },
    {
      "cell_type": "markdown",
      "source": [
        "Awalnya ini mengembalikan dataset (teks, pasangan label)"
      ],
      "metadata": {
        "id": "j_eYeX0AKFrZ"
      }
    },
    {
      "cell_type": "code",
      "source": [
        "for example, label in train_dataset.take(1):\n",
        "  print('text: ', example.numpy())\n",
        "  print('label: ', label.numpy())"
      ],
      "metadata": {
        "colab": {
          "base_uri": "https://localhost:8080/"
        },
        "id": "pMIsYabHKHKf",
        "outputId": "658f0cc1-7b63-49c7-c53b-74d52f9a6012"
      },
      "execution_count": 6,
      "outputs": [
        {
          "output_type": "stream",
          "name": "stdout",
          "text": [
            "text:  b\"This was an absolutely terrible movie. Don't be lured in by Christopher Walken or Michael Ironside. Both are great actors, but this must simply be their worst role in history. Even their great acting could not redeem this movie's ridiculous storyline. This movie is an early nineties US propaganda piece. The most pathetic scenes were those when the Columbian rebels were making their cases for revolutions. Maria Conchita Alonso appeared phony, and her pseudo-love affair with Walken was nothing but a pathetic emotional plug in a movie that was devoid of any real meaning. I am disappointed that there are movies like this, ruining actor's like Christopher Walken's good name. I could barely sit through it.\"\n",
            "label:  0\n"
          ]
        }
      ]
    },
    {
      "cell_type": "markdown",
      "source": [
        "Berikutnya acak data untuk pelatihan dan membuat kumpulan pasangan (teks, label) ini"
      ],
      "metadata": {
        "id": "EOE9O5G0KNHy"
      }
    },
    {
      "cell_type": "code",
      "source": [
        "BUFFER_SIZE = 10000\n",
        "BATCH_SIZE = 64\n",
        "\n",
        "train_dataset = train_dataset.shuffle(BUFFER_SIZE).batch(BATCH_SIZE).prefetch(tf.data.AUTOTUNE)\n",
        "test_dataset = test_dataset.batch(BATCH_SIZE).prefetch(tf.data.AUTOTUNE)\n",
        "\n",
        "for example, label in train_dataset.take(1):\n",
        "  print('texts: ', example.numpy()[:3])\n",
        "  print()\n",
        "  print('labels: ', label.numpy()[:3])\n"
      ],
      "metadata": {
        "colab": {
          "base_uri": "https://localhost:8080/"
        },
        "id": "sTmDfmwuKN0p",
        "outputId": "f78a4d15-0742-4cd7-b48d-5a11908e7685"
      },
      "execution_count": 7,
      "outputs": [
        {
          "output_type": "stream",
          "name": "stdout",
          "text": [
            "texts:  [b'I can safely admit (as an IMDb geek) that \\'Phantom Lady\\' will never crack into my film noir top twenty. It may not even sneak into the top fifty. But rather than discredit the film for not being as good as so many other classics of the film noir genre, it should be noted that \\'Phantom Lady\\' has enough strong and lasting images in it to make it a worthwhile viewing. All that is required from the viewer is the ability to get beyond the dreadfully slow beginning.<br /><br />The film doesn\\'t get cooking until \\'Kansas\\' (Ella Raines) sets about trying to prove all but single handedly the innocence of her boss, Scott Anderson (Alan Curtis), who has been convicted of murder. \\'Kansas\\' is Anderson\\'s secretary by day and amateur detective by night. As the novice sleuth she does quite well for herself while working the streets of New York at night. Little by little she starts putting pieces of a murder mystery puzzle together. To be honest, the film belongs to Raines and it is only due to her presence that the film works well at all. Somehow she is able to breathe life into a film about a condemned man who is not interesting in the slightest. I\\'m not sure if this splintered dynamic of a characterless leading man becomes the fault of the actor or the director, but clearly this is where something becomes terribly wrong with the film.<br /><br />As interesting as Raines is as a novice detective, things really accelerate into another hidden gear when \\'Kansas\\' pays a late night visit to a wandering drummer (Elisha Cook, Jr.) in search of some information to help her condemned boss. She and the drummer paint the town a new kind of red while visiting the \"all night\" jazz clubs. Trying to describe this scene will either prove an injustice to the scene or worse yet, it could ruin the scene all together. You\\'ll know the scene once the last cymbal crash has finished ringing out. If you\\'re lucky enough to have this film on DVD, you\\'ll more than likely be rewinding this scene again and again. As good as Raines is, it is this scene that makes this film noteworthy. It is mainly because of this scene that I rate \\'Phantom Lady\\' a 7 instead of a 6.<br /><br />For the most part this film comes off as tepid and bland with a few great scenes and one magnificent scene. It is the \\'drum/sex scene\\' that separates this film from any others of the same ilk.<br /><br />And just like it is said in the film that \"you never go wrong with Vanilla\", I would also like to add that \"going with Vanilla\" is the safe fall back choice when one can\\'t decide on having a tastier treat.<br /><br />7/10. Clark Richards'\n",
            " b\"This movie kinda let me down. It seemed a lot like the movie Jaws when the Hopper was telling the Mayor to close parks was like when Roy Shider was telling the Mayor to close the beaches. They both said no way its summer! But the box says Hopper has to get into the mind of a killer and think like one. But he really doesn't do anything too interesting or exciting. I'm not even a little convinced he and his partner have any experience doing police work when they are in the office wondering how they are gonna solve this case. They just say lets do police work and we'll solve it. And whats up with all the old men with pool cues. I didn't even begin to believe that they were mob bosses. And then the guy who was doubting the guy the mob picked to handle finding the killer. With his hundred dollar haircut and that he thinks his Di@k is the size of a schoolbus. Come on what cruddy lines. I thought he was gonna hit him with a baseball bat like in the other movies. I got this movie used and wouldn't buy it new. I suggest you skip this movie. Oh and it was funny seeing the microphone above the scene where hopper is going out to get coffee.\"\n",
            " b'As a another reviewer states Hanna\\'s War is an outstanding film about an outstanding person, Hanna \"Anniko\" Senesh, who would become the Jewish Joan Of Arc. Unfortunately I diverge in opinion not agreeing that Miss Detmers as the lead is too beautiful to be taken seriously as a resistance fighter. In truth for me her performance is not held back by her beauty but makes it all the more stark in the terror of the sadistic brutality as a resistor she faces. Maruschka Detmers performance is brave, poignant, heartfelt or understood, and totally believable. In other words for me \"In the zone.\" from the opening credits. If you would like to learn about the suffering of someone else for something they believe in and be impressively entertained give Hanna\\'s War with Maruschka Detmers a try. My hat is off also to Ellen Burstyn as Hanna\\'s mother a much well known and famous actress who could have made effort to walk off with the film. In that it is a team effort perhaps of two actress\\' but not an All About Eve situation.']\n",
            "\n",
            "labels:  [1 0 1]\n"
          ]
        }
      ]
    },
    {
      "cell_type": "markdown",
      "source": [
        "Buat Teks Encoder"
      ],
      "metadata": {
        "id": "EwqnjBrcKZlL"
      }
    },
    {
      "cell_type": "code",
      "source": [
        "VOCAB_SIZE = 1000\n",
        "encoder = tf.keras.layers.TextVectorization(\n",
        "    max_tokens=VOCAB_SIZE)\n",
        "encoder.adapt(train_dataset.map(lambda text, label: text))"
      ],
      "metadata": {
        "id": "QuHRjtXoKaNL"
      },
      "execution_count": 8,
      "outputs": []
    },
    {
      "cell_type": "code",
      "source": [
        "vocab=np.array(encoder.get_vocabulary())\n",
        "vocab[:20]"
      ],
      "metadata": {
        "colab": {
          "base_uri": "https://localhost:8080/"
        },
        "id": "coAsyNtkLI28",
        "outputId": "8d1534d2-489a-49f5-c764-64cca4b1c1e2"
      },
      "execution_count": 9,
      "outputs": [
        {
          "output_type": "execute_result",
          "data": {
            "text/plain": [
              "array(['', '[UNK]', 'the', 'and', 'a', 'of', 'to', 'is', 'in', 'it', 'i',\n",
              "       'this', 'that', 'br', 'was', 'as', 'for', 'with', 'movie', 'but'],\n",
              "      dtype='<U14')"
            ]
          },
          "metadata": {},
          "execution_count": 9
        }
      ]
    },
    {
      "cell_type": "code",
      "source": [
        "encoded_example=encoder(example)[:3].numpy()\n",
        "encoded_example"
      ],
      "metadata": {
        "colab": {
          "base_uri": "https://localhost:8080/"
        },
        "id": "h7_yEKniLYur",
        "outputId": "5fb5a5a2-6648-4337-d8f7-42e4b2215fe7"
      },
      "execution_count": 10,
      "outputs": [
        {
          "output_type": "execute_result",
          "data": {
            "text/plain": [
              "array([[ 10,  69,   1, ...,   0,   0,   0],\n",
              "       [ 11,  18,   1, ...,   0,   0,   0],\n",
              "       [ 15,   4, 154, ...,   0,   0,   0]])"
            ]
          },
          "metadata": {},
          "execution_count": 10
        }
      ]
    },
    {
      "cell_type": "code",
      "source": [
        "for n in range(3):\n",
        "  print(\"Original: \", example[n].numpy())\n",
        "  print(\"Round-trip: \", \" \".join(vocab[encoded_example[n]]))\n",
        "  print()"
      ],
      "metadata": {
        "colab": {
          "base_uri": "https://localhost:8080/"
        },
        "id": "tJyxA7CWLf7H",
        "outputId": "a272082f-3d6f-4ee8-86a8-705639c82a3d"
      },
      "execution_count": 11,
      "outputs": [
        {
          "output_type": "stream",
          "name": "stdout",
          "text": [
            "Original:  b'I can safely admit (as an IMDb geek) that \\'Phantom Lady\\' will never crack into my film noir top twenty. It may not even sneak into the top fifty. But rather than discredit the film for not being as good as so many other classics of the film noir genre, it should be noted that \\'Phantom Lady\\' has enough strong and lasting images in it to make it a worthwhile viewing. All that is required from the viewer is the ability to get beyond the dreadfully slow beginning.<br /><br />The film doesn\\'t get cooking until \\'Kansas\\' (Ella Raines) sets about trying to prove all but single handedly the innocence of her boss, Scott Anderson (Alan Curtis), who has been convicted of murder. \\'Kansas\\' is Anderson\\'s secretary by day and amateur detective by night. As the novice sleuth she does quite well for herself while working the streets of New York at night. Little by little she starts putting pieces of a murder mystery puzzle together. To be honest, the film belongs to Raines and it is only due to her presence that the film works well at all. Somehow she is able to breathe life into a film about a condemned man who is not interesting in the slightest. I\\'m not sure if this splintered dynamic of a characterless leading man becomes the fault of the actor or the director, but clearly this is where something becomes terribly wrong with the film.<br /><br />As interesting as Raines is as a novice detective, things really accelerate into another hidden gear when \\'Kansas\\' pays a late night visit to a wandering drummer (Elisha Cook, Jr.) in search of some information to help her condemned boss. She and the drummer paint the town a new kind of red while visiting the \"all night\" jazz clubs. Trying to describe this scene will either prove an injustice to the scene or worse yet, it could ruin the scene all together. You\\'ll know the scene once the last cymbal crash has finished ringing out. If you\\'re lucky enough to have this film on DVD, you\\'ll more than likely be rewinding this scene again and again. As good as Raines is, it is this scene that makes this film noteworthy. It is mainly because of this scene that I rate \\'Phantom Lady\\' a 7 instead of a 6.<br /><br />For the most part this film comes off as tepid and bland with a few great scenes and one magnificent scene. It is the \\'drum/sex scene\\' that separates this film from any others of the same ilk.<br /><br />And just like it is said in the film that \"you never go wrong with Vanilla\", I would also like to add that \"going with Vanilla\" is the safe fall back choice when one can\\'t decide on having a tastier treat.<br /><br />7/10. Clark Richards'\n",
            "Round-trip:  i can [UNK] admit as an imdb [UNK] that [UNK] lady will never [UNK] into my film [UNK] top [UNK] it may not even [UNK] into the top [UNK] but rather than [UNK] the film for not being as good as so many other [UNK] of the film [UNK] genre it should be [UNK] that [UNK] lady has enough strong and [UNK] [UNK] in it to make it a [UNK] viewing all that is [UNK] from the viewer is the [UNK] to get beyond the [UNK] slow [UNK] br the film doesnt get [UNK] until [UNK] [UNK] [UNK] sets about trying to [UNK] all but single [UNK] the [UNK] of her [UNK] [UNK] [UNK] [UNK] [UNK] who has been [UNK] of murder [UNK] is [UNK] [UNK] by day and [UNK] [UNK] by night as the [UNK] [UNK] she does quite well for herself while working the [UNK] of new york at night little by little she starts [UNK] [UNK] of a murder mystery [UNK] together to be [UNK] the film [UNK] to [UNK] and it is only due to her [UNK] that the film works well at all somehow she is able to [UNK] life into a film about a [UNK] man who is not interesting in the [UNK] im not sure if this [UNK] [UNK] of a [UNK] leading man becomes the [UNK] of the actor or the director but clearly this is where something becomes [UNK] wrong with the filmbr br as interesting as [UNK] is as a [UNK] [UNK] things really [UNK] into another [UNK] [UNK] when [UNK] [UNK] a late night [UNK] to a [UNK] [UNK] [UNK] [UNK] [UNK] in [UNK] of some [UNK] to help her [UNK] [UNK] she and the [UNK] [UNK] the town a new kind of red while [UNK] the all night [UNK] [UNK] trying to [UNK] this scene will either [UNK] an [UNK] to the scene or worse yet it could [UNK] the scene all together youll know the scene once the last [UNK] [UNK] has [UNK] [UNK] out if youre [UNK] enough to have this film on dvd youll more than [UNK] be [UNK] this scene again and again as good as [UNK] is it is this scene that makes this film [UNK] it is [UNK] because of this scene that i [UNK] [UNK] lady a [UNK] instead of a [UNK] br for the most part this film comes off as [UNK] and [UNK] with a few great scenes and one [UNK] scene it is the [UNK] scene that [UNK] this film from any others of the same [UNK] br and just like it is said in the film that you never go wrong with [UNK] i would also like to add that going with [UNK] is the [UNK] fall back [UNK] when one cant [UNK] on having a [UNK] [UNK] br [UNK] [UNK] [UNK]                                                                                                                                                                                                                                                                                                                                                     \n",
            "\n",
            "Original:  b\"This movie kinda let me down. It seemed a lot like the movie Jaws when the Hopper was telling the Mayor to close parks was like when Roy Shider was telling the Mayor to close the beaches. They both said no way its summer! But the box says Hopper has to get into the mind of a killer and think like one. But he really doesn't do anything too interesting or exciting. I'm not even a little convinced he and his partner have any experience doing police work when they are in the office wondering how they are gonna solve this case. They just say lets do police work and we'll solve it. And whats up with all the old men with pool cues. I didn't even begin to believe that they were mob bosses. And then the guy who was doubting the guy the mob picked to handle finding the killer. With his hundred dollar haircut and that he thinks his Di@k is the size of a schoolbus. Come on what cruddy lines. I thought he was gonna hit him with a baseball bat like in the other movies. I got this movie used and wouldn't buy it new. I suggest you skip this movie. Oh and it was funny seeing the microphone above the scene where hopper is going out to get coffee.\"\n",
            "Round-trip:  this movie [UNK] let me down it seemed a lot like the movie [UNK] when the [UNK] was [UNK] the [UNK] to close [UNK] was like when [UNK] [UNK] was [UNK] the [UNK] to close the [UNK] they both said no way its [UNK] but the [UNK] says [UNK] has to get into the mind of a killer and think like one but he really doesnt do anything too interesting or [UNK] im not even a little [UNK] he and his [UNK] have any experience doing police work when they are in the [UNK] [UNK] how they are [UNK] [UNK] this case they just say lets do police work and well [UNK] it and whats up with all the old men with [UNK] [UNK] i didnt even begin to believe that they were [UNK] [UNK] and then the guy who was [UNK] the guy the [UNK] [UNK] to [UNK] [UNK] the killer with his [UNK] [UNK] [UNK] and that he [UNK] his [UNK] is the [UNK] of a [UNK] come on what [UNK] lines i thought he was [UNK] hit him with a [UNK] [UNK] like in the other movies i got this movie used and wouldnt buy it new i [UNK] you [UNK] this movie oh and it was funny seeing the [UNK] above the scene where [UNK] is going out to get [UNK]                                                                                                                                                                                                                                                                                                                                                                                                                                                                                                                                                                                                               \n",
            "\n",
            "Original:  b'As a another reviewer states Hanna\\'s War is an outstanding film about an outstanding person, Hanna \"Anniko\" Senesh, who would become the Jewish Joan Of Arc. Unfortunately I diverge in opinion not agreeing that Miss Detmers as the lead is too beautiful to be taken seriously as a resistance fighter. In truth for me her performance is not held back by her beauty but makes it all the more stark in the terror of the sadistic brutality as a resistor she faces. Maruschka Detmers performance is brave, poignant, heartfelt or understood, and totally believable. In other words for me \"In the zone.\" from the opening credits. If you would like to learn about the suffering of someone else for something they believe in and be impressively entertained give Hanna\\'s War with Maruschka Detmers a try. My hat is off also to Ellen Burstyn as Hanna\\'s mother a much well known and famous actress who could have made effort to walk off with the film. In that it is a team effort perhaps of two actress\\' but not an All About Eve situation.'\n",
            "Round-trip:  as a another [UNK] [UNK] [UNK] war is an [UNK] film about an [UNK] person [UNK] [UNK] [UNK] who would become the [UNK] [UNK] of [UNK] unfortunately i [UNK] in opinion not [UNK] that miss [UNK] as the lead is too beautiful to be taken seriously as a [UNK] [UNK] in truth for me her performance is not [UNK] back by her beauty but makes it all the more [UNK] in the [UNK] of the [UNK] [UNK] as a [UNK] she [UNK] [UNK] [UNK] performance is [UNK] [UNK] [UNK] or [UNK] and totally believable in other words for me in the [UNK] from the opening credits if you would like to learn about the [UNK] of someone else for something they believe in and be [UNK] [UNK] give [UNK] war with [UNK] [UNK] a try my [UNK] is off also to [UNK] [UNK] as [UNK] mother a much well known and famous actress who could have made effort to [UNK] off with the film in that it is a team effort perhaps of two actress but not an all about [UNK] situation                                                                                                                                                                                                                                                                                                                                                                                                                                                                                                                                                                                                                                                          \n",
            "\n"
          ]
        }
      ]
    },
    {
      "cell_type": "markdown",
      "source": [
        "Buat Model"
      ],
      "metadata": {
        "id": "gu2HHHv4LjnG"
      }
    },
    {
      "cell_type": "code",
      "source": [
        "model = tf.keras.Sequential([\n",
        "    encoder,\n",
        "    tf.keras.layers.Embedding(\n",
        "        input_dim=len(encoder.get_vocabulary()),\n",
        "        output_dim=64,\n",
        "        # Use masking to handle the variable sequence lengths\n",
        "        mask_zero=True),\n",
        "    tf.keras.layers.Bidirectional(tf.keras.layers.LSTM(64)),\n",
        "    tf.keras.layers.Dense(64, activation='relu'),\n",
        "    tf.keras.layers.Dense(1)\n",
        "])"
      ],
      "metadata": {
        "id": "KEbbcFRhLlU1"
      },
      "execution_count": 12,
      "outputs": []
    },
    {
      "cell_type": "code",
      "source": [
        "print([layer.supports_masking for layer in model.layers])"
      ],
      "metadata": {
        "colab": {
          "base_uri": "https://localhost:8080/"
        },
        "id": "k_FyFLU1LqcE",
        "outputId": "9f48cd18-023b-482c-9b65-7384711c704b"
      },
      "execution_count": 13,
      "outputs": [
        {
          "output_type": "stream",
          "name": "stdout",
          "text": [
            "[False, True, True, True, True]\n"
          ]
        }
      ]
    },
    {
      "cell_type": "code",
      "source": [
        "# predict on a sample text without padding.\n",
        "\n",
        "sample_text = ('The movie was cool. The animation and the graphics '\n",
        "               'were out of this world. I would recommend this movie.')\n",
        "predictions = model.predict(np.array([sample_text]))\n",
        "print(predictions[0])"
      ],
      "metadata": {
        "colab": {
          "base_uri": "https://localhost:8080/"
        },
        "id": "_Dl753mwLzoE",
        "outputId": "35ded04b-55fd-4f78-c51a-cef288ff4595"
      },
      "execution_count": 14,
      "outputs": [
        {
          "output_type": "stream",
          "name": "stdout",
          "text": [
            "1/1 [==============================] - 7s 7s/step\n",
            "[0.01442129]\n"
          ]
        }
      ]
    },
    {
      "cell_type": "code",
      "source": [
        "# predict on a sample text with padding\n",
        "\n",
        "padding = \"the \" * 2000\n",
        "predictions = model.predict(np.array([sample_text, padding]))\n",
        "print(predictions[0])"
      ],
      "metadata": {
        "colab": {
          "base_uri": "https://localhost:8080/"
        },
        "id": "g3NNH95gL6Wy",
        "outputId": "ef882ffd-e116-47f0-b6f2-205de21908c6"
      },
      "execution_count": 15,
      "outputs": [
        {
          "output_type": "stream",
          "name": "stdout",
          "text": [
            "1/1 [==============================] - 0s 60ms/step\n",
            "[0.01442129]\n"
          ]
        }
      ]
    },
    {
      "cell_type": "code",
      "source": [
        "model.compile(loss=tf.keras.losses.BinaryCrossentropy(from_logits=True),\n",
        "              optimizer=tf.keras.optimizers.Adam(1e-4),\n",
        "              metrics=['accuracy'])"
      ],
      "metadata": {
        "id": "9BLE_r_jL9lI"
      },
      "execution_count": 16,
      "outputs": []
    },
    {
      "cell_type": "markdown",
      "source": [
        "Train Model"
      ],
      "metadata": {
        "id": "ausikbiEL_Rs"
      }
    },
    {
      "cell_type": "code",
      "source": [
        "history = model.fit(train_dataset, epochs=10,\n",
        "                    validation_data=test_dataset,\n",
        "                    validation_steps=30)"
      ],
      "metadata": {
        "colab": {
          "base_uri": "https://localhost:8080/"
        },
        "id": "TCoIR9-yMBRF",
        "outputId": "411f3848-2b39-494f-b4d2-84b1e5479106"
      },
      "execution_count": 17,
      "outputs": [
        {
          "output_type": "stream",
          "name": "stdout",
          "text": [
            "Epoch 1/10\n",
            "391/391 [==============================] - 48s 101ms/step - loss: 0.6302 - accuracy: 0.5790 - val_loss: 0.5340 - val_accuracy: 0.6594\n",
            "Epoch 2/10\n",
            "391/391 [==============================] - 27s 68ms/step - loss: 0.4195 - accuracy: 0.8008 - val_loss: 0.4141 - val_accuracy: 0.7948\n",
            "Epoch 3/10\n",
            "391/391 [==============================] - 26s 65ms/step - loss: 0.3585 - accuracy: 0.8416 - val_loss: 0.3612 - val_accuracy: 0.8276\n",
            "Epoch 4/10\n",
            "391/391 [==============================] - 25s 63ms/step - loss: 0.3272 - accuracy: 0.8579 - val_loss: 0.3342 - val_accuracy: 0.8495\n",
            "Epoch 5/10\n",
            "391/391 [==============================] - 25s 63ms/step - loss: 0.3144 - accuracy: 0.8659 - val_loss: 0.3314 - val_accuracy: 0.8448\n",
            "Epoch 6/10\n",
            "391/391 [==============================] - 25s 62ms/step - loss: 0.3077 - accuracy: 0.8677 - val_loss: 0.3250 - val_accuracy: 0.8589\n",
            "Epoch 7/10\n",
            "391/391 [==============================] - 24s 62ms/step - loss: 0.3010 - accuracy: 0.8707 - val_loss: 0.3466 - val_accuracy: 0.8490\n",
            "Epoch 8/10\n",
            "391/391 [==============================] - 25s 64ms/step - loss: 0.2998 - accuracy: 0.8715 - val_loss: 0.3237 - val_accuracy: 0.8599\n",
            "Epoch 9/10\n",
            "391/391 [==============================] - 25s 62ms/step - loss: 0.2991 - accuracy: 0.8719 - val_loss: 0.3236 - val_accuracy: 0.8542\n",
            "Epoch 10/10\n",
            "391/391 [==============================] - 25s 63ms/step - loss: 0.2974 - accuracy: 0.8744 - val_loss: 0.3348 - val_accuracy: 0.8594\n"
          ]
        }
      ]
    },
    {
      "cell_type": "code",
      "source": [
        "test_loss, test_acc = model.evaluate(test_dataset)\n",
        "\n",
        "print('Test Loss:', test_loss)\n",
        "print('Test Accuracy:', test_acc)"
      ],
      "metadata": {
        "colab": {
          "base_uri": "https://localhost:8080/"
        },
        "id": "s6dgwIJ5O8yg",
        "outputId": "a6c52a2b-4ff2-4742-8d61-ad117e0e6d75"
      },
      "execution_count": 18,
      "outputs": [
        {
          "output_type": "stream",
          "name": "stdout",
          "text": [
            "391/391 [==============================] - 12s 31ms/step - loss: 0.3326 - accuracy: 0.8631\n",
            "Test Loss: 0.3325995206832886\n",
            "Test Accuracy: 0.8630800247192383\n"
          ]
        }
      ]
    },
    {
      "cell_type": "code",
      "source": [
        "plt.figure(figsize=(16, 8))\n",
        "plt.subplot(1, 2, 1)\n",
        "plot_graphs(history, 'accuracy')\n",
        "plt.ylim(None, 1)\n",
        "plt.subplot(1, 2, 2)\n",
        "plot_graphs(history, 'loss')\n",
        "plt.ylim(0, None)"
      ],
      "metadata": {
        "colab": {
          "base_uri": "https://localhost:8080/",
          "height": 718
        },
        "id": "XC-2kmGmPUc8",
        "outputId": "b25bbe2b-4c1b-45d7-f5bc-3ef47fc6955f"
      },
      "execution_count": 19,
      "outputs": [
        {
          "output_type": "execute_result",
          "data": {
            "text/plain": [
              "(0.0, 0.6468087747693062)"
            ]
          },
          "metadata": {},
          "execution_count": 19
        },
        {
          "output_type": "display_data",
          "data": {
            "text/plain": [
              "<Figure size 1600x800 with 2 Axes>"
            ],
            "image/png": "[encoded data removed]"
          },
          "metadata": {}
        }
      ]
    },
    {
      "cell_type": "code",
      "source": [
        "sample_text = ('The movie was cool. The animation and the graphics '\n",
        "                'were out of this world. I would recommend this movie.')\n",
        "predictions = model.predict(np.array([sample_text]))"
      ],
      "metadata": {
        "colab": {
          "base_uri": "https://localhost:8080/"
        },
        "id": "uwF6yxQkPlrN",
        "outputId": "0127dc8a-3bef-43fe-8758-6c48afd3b770"
      },
      "execution_count": 20,
      "outputs": [
        {
          "output_type": "stream",
          "name": "stdout",
          "text": [
            "1/1 [==============================] - 2s 2s/step\n"
          ]
        }
      ]
    },
    {
      "cell_type": "markdown",
      "source": [
        "Stack two or more LSTM layers"
      ],
      "metadata": {
        "id": "AurA_6OTP0zr"
      }
    },
    {
      "cell_type": "code",
      "source": [
        "model = tf.keras.Sequential([\n",
        "    encoder,\n",
        "    tf.keras.layers.Embedding(len(encoder.get_vocabulary()), 64, mask_zero=True),\n",
        "    tf.keras.layers.Bidirectional(tf.keras.layers.LSTM(64, return_sequences=True)),\n",
        "    tf.keras.layers.Bidirectional(tf.keras.layers.LSTM(32)),\n",
        "    tf.keras.layers.Dense(64, activation='relu'),\n",
        "    tf.keras.layers.Dropout(0.5),\n",
        "    tf.keras.layers.Dense(1)\n",
        "])"
      ],
      "metadata": {
        "id": "a6ATVBqrP1hF"
      },
      "execution_count": 21,
      "outputs": []
    },
    {
      "cell_type": "code",
      "source": [
        "model.compile(loss=tf.keras.losses.BinaryCrossentropy(from_logits=True),\n",
        "              optimizer=tf.keras.optimizers.Adam(1e-4),\n",
        "              metrics=['accuracy'])"
      ],
      "metadata": {
        "id": "N4q9RFoIQKWi"
      },
      "execution_count": 22,
      "outputs": []
    },
    {
      "cell_type": "code",
      "source": [
        "history = model.fit(train_dataset, epochs=10,\n",
        "                    validation_data=test_dataset,\n",
        "                    validation_steps=30)"
      ],
      "metadata": {
        "colab": {
          "base_uri": "https://localhost:8080/"
        },
        "id": "CwYV3hxZQSCy",
        "outputId": "7a267c03-34b5-49bf-f139-d5d84101a167"
      },
      "execution_count": 23,
      "outputs": [
        {
          "output_type": "stream",
          "name": "stdout",
          "text": [
            "Epoch 1/10\n",
            "391/391 [==============================] - 78s 154ms/step - loss: 0.6104 - accuracy: 0.6111 - val_loss: 0.4419 - val_accuracy: 0.7812\n",
            "Epoch 2/10\n",
            "391/391 [==============================] - 46s 117ms/step - loss: 0.3866 - accuracy: 0.8335 - val_loss: 0.3513 - val_accuracy: 0.8536\n",
            "Epoch 3/10\n",
            "391/391 [==============================] - 46s 117ms/step - loss: 0.3396 - accuracy: 0.8563 - val_loss: 0.3297 - val_accuracy: 0.8516\n",
            "Epoch 4/10\n",
            "391/391 [==============================] - 46s 117ms/step - loss: 0.3268 - accuracy: 0.8639 - val_loss: 0.3270 - val_accuracy: 0.8474\n",
            "Epoch 5/10\n",
            "391/391 [==============================] - 47s 119ms/step - loss: 0.3145 - accuracy: 0.8676 - val_loss: 0.3317 - val_accuracy: 0.8422\n",
            "Epoch 6/10\n",
            "391/391 [==============================] - 46s 117ms/step - loss: 0.3121 - accuracy: 0.8695 - val_loss: 0.3239 - val_accuracy: 0.8516\n",
            "Epoch 7/10\n",
            "391/391 [==============================] - 46s 118ms/step - loss: 0.3063 - accuracy: 0.8719 - val_loss: 0.3174 - val_accuracy: 0.8594\n",
            "Epoch 8/10\n",
            "391/391 [==============================] - 45s 115ms/step - loss: 0.3033 - accuracy: 0.8712 - val_loss: 0.3285 - val_accuracy: 0.8594\n",
            "Epoch 9/10\n",
            "391/391 [==============================] - 48s 121ms/step - loss: 0.2988 - accuracy: 0.8737 - val_loss: 0.3252 - val_accuracy: 0.8578\n",
            "Epoch 10/10\n",
            "391/391 [==============================] - 46s 116ms/step - loss: 0.2950 - accuracy: 0.8746 - val_loss: 0.3272 - val_accuracy: 0.8505\n"
          ]
        }
      ]
    },
    {
      "cell_type": "code",
      "source": [
        "test_loss, test_acc = model.evaluate(test_dataset)\n",
        "\n",
        "print('Test Loss:', test_loss)\n",
        "print('Test Accuracy:', test_acc)"
      ],
      "metadata": {
        "colab": {
          "base_uri": "https://localhost:8080/"
        },
        "id": "xmL47tgZTHk-",
        "outputId": "a32ab449-c390-4b93-c206-c9fd484ebcfd"
      },
      "execution_count": 24,
      "outputs": [
        {
          "output_type": "stream",
          "name": "stdout",
          "text": [
            "391/391 [==============================] - 20s 50ms/step - loss: 0.3212 - accuracy: 0.8502\n",
            "Test Loss: 0.32116442918777466\n",
            "Test Accuracy: 0.8501999974250793\n"
          ]
        }
      ]
    },
    {
      "cell_type": "code",
      "source": [
        "# predict on a sample text without padding.\n",
        "\n",
        "sample_text = ('The movie was not good. The animation and the graphics '\n",
        "                'were terrible. I would not recommend this movie.')\n",
        "predictions = model.predict(np.array([sample_text]))\n",
        "print(predictions)"
      ],
      "metadata": {
        "colab": {
          "base_uri": "https://localhost:8080/"
        },
        "id": "03QMryi1TPED",
        "outputId": "60856744-ee87-48a8-b06f-12adbf4b1c44"
      },
      "execution_count": 25,
      "outputs": [
        {
          "output_type": "stream",
          "name": "stdout",
          "text": [
            "1/1 [==============================] - 6s 6s/step\n",
            "[[-1.8452591]]\n"
          ]
        }
      ]
    },
    {
      "cell_type": "code",
      "source": [
        "plt.figure(figsize=(16, 6))\n",
        "plt.subplot(1, 2, 1)\n",
        "plot_graphs(history, 'accuracy')\n",
        "plt.subplot(1, 2, 2)\n",
        "plot_graphs(history, 'loss')"
      ],
      "metadata": {
        "colab": {
          "base_uri": "https://localhost:8080/",
          "height": 542
        },
        "id": "24cBjmrGTWAB",
        "outputId": "b1ae540b-e395-45ba-8c60-a7e8944eeefb"
      },
      "execution_count": 26,
      "outputs": [
        {
          "output_type": "display_data",
          "data": {
            "text/plain": [
              "<Figure size 1600x600 with 2 Axes>"
            ],
            "image/png": "[encoded data removed]"
          },
          "metadata": {}
        }
      ]
    },
    {
      "cell_type": "markdown",
      "source": [
        "**PRAKTIKUM 2**"
      ],
      "metadata": {
        "id": "gy2KAUsBTk2c"
      }
    },
    {
      "cell_type": "code",
      "source": [
        "#Import TensorFlow\n",
        "\n",
        "import tensorflow as tf\n",
        "import numpy as np\n",
        "import os\n",
        "import time"
      ],
      "metadata": {
        "id": "19wv4iiETnj3"
      },
      "execution_count": 27,
      "outputs": []
    },
    {
      "cell_type": "code",
      "source": [
        "#Download Dataset Shakespeare\n",
        "\n",
        "path_to_file = tf.keras.utils.get_file('shakespeare.txt', 'https://storage.googleapis.com/download.tensorflow.org/data/shakespeare.txt')"
      ],
      "metadata": {
        "colab": {
          "base_uri": "https://localhost:8080/"
        },
        "id": "m1cTDI2LTxSf",
        "outputId": "da5e3e9e-cb69-4501-e845-07d156bb592a"
      },
      "execution_count": 28,
      "outputs": [
        {
          "output_type": "stream",
          "name": "stdout",
          "text": [
            "Downloading data from https://storage.googleapis.com/download.tensorflow.org/data/shakespeare.txt\n",
            "1115394/1115394 [==============================] - 0s 0us/step\n"
          ]
        }
      ]
    },
    {
      "cell_type": "code",
      "source": [
        "# Read, then decode for py2 compat.\n",
        "text = open(path_to_file, 'rb').read().decode(encoding='utf-8')\n",
        "# length of text is the number of characters in it\n",
        "print(f'Length of text: {len(text)} characters')"
      ],
      "metadata": {
        "colab": {
          "base_uri": "https://localhost:8080/"
        },
        "id": "kWiCX2PzT9wG",
        "outputId": "7e9bc9f0-d5a2-4426-9b9c-f0b299632491"
      },
      "execution_count": 29,
      "outputs": [
        {
          "output_type": "stream",
          "name": "stdout",
          "text": [
            "Length of text: 1115394 characters\n"
          ]
        }
      ]
    },
    {
      "cell_type": "code",
      "source": [
        "# Take a look at the first 250 characters in text\n",
        "print(text[:250])"
      ],
      "metadata": {
        "colab": {
          "base_uri": "https://localhost:8080/"
        },
        "id": "JcCDIRB-UAk7",
        "outputId": "c68b1407-7619-4621-e911-dadcc55bf1da"
      },
      "execution_count": 30,
      "outputs": [
        {
          "output_type": "stream",
          "name": "stdout",
          "text": [
            "First Citizen:\n",
            "Before we proceed any further, hear me speak.\n",
            "\n",
            "All:\n",
            "Speak, speak.\n",
            "\n",
            "First Citizen:\n",
            "You are all resolved rather to die than to famish?\n",
            "\n",
            "All:\n",
            "Resolved. resolved.\n",
            "\n",
            "First Citizen:\n",
            "First, you know Caius Marcius is chief enemy to the people.\n",
            "\n"
          ]
        }
      ]
    },
    {
      "cell_type": "code",
      "source": [
        "# The unique characters in the file\n",
        "vocab = sorted(set(text))\n",
        "print(f'{len(vocab)} unique characters')"
      ],
      "metadata": {
        "colab": {
          "base_uri": "https://localhost:8080/"
        },
        "id": "ayV_lU_UUE4U",
        "outputId": "60db35ae-b9a3-4225-cca0-4e540a0dfdb3"
      },
      "execution_count": 31,
      "outputs": [
        {
          "output_type": "stream",
          "name": "stdout",
          "text": [
            "65 unique characters\n"
          ]
        }
      ]
    },
    {
      "cell_type": "markdown",
      "source": [
        "Olah Teks"
      ],
      "metadata": {
        "id": "J1SNZACLUK4q"
      }
    },
    {
      "cell_type": "code",
      "source": [
        "example_texts = ['abcdefg', 'xyz']\n",
        "chars = tf.strings.unicode_split(example_texts, input_encoding='UTF-8')\n",
        "chars"
      ],
      "metadata": {
        "colab": {
          "base_uri": "https://localhost:8080/"
        },
        "id": "PRasDogNULfp",
        "outputId": "4be54e44-65b7-488b-bb84-3c2bf06a6bb5"
      },
      "execution_count": 32,
      "outputs": [
        {
          "output_type": "execute_result",
          "data": {
            "text/plain": [
              "<tf.RaggedTensor [[b'a', b'b', b'c', b'd', b'e', b'f', b'g'], [b'x', b'y', b'z']]>"
            ]
          },
          "metadata": {},
          "execution_count": 32
        }
      ]
    },
    {
      "cell_type": "code",
      "source": [
        "ids_from_chars = tf.keras.layers.StringLookup(\n",
        "    vocabulary=list(vocab), mask_token=None)"
      ],
      "metadata": {
        "id": "IkPq2iAGUZb0"
      },
      "execution_count": 33,
      "outputs": []
    },
    {
      "cell_type": "code",
      "source": [
        "ids = ids_from_chars(chars)\n",
        "ids"
      ],
      "metadata": {
        "colab": {
          "base_uri": "https://localhost:8080/"
        },
        "id": "HVbgEaxjUlGb",
        "outputId": "b7756bfd-f735-47f7-8c9b-08b6354fbe7f"
      },
      "execution_count": 34,
      "outputs": [
        {
          "output_type": "execute_result",
          "data": {
            "text/plain": [
              "<tf.RaggedTensor [[40, 41, 42, 43, 44, 45, 46], [63, 64, 65]]>"
            ]
          },
          "metadata": {},
          "execution_count": 34
        }
      ]
    },
    {
      "cell_type": "code",
      "source": [
        "chars_from_ids = tf.keras.layers.StringLookup(\n",
        "    vocabulary=ids_from_chars.get_vocabulary(), invert=True, mask_token=None)"
      ],
      "metadata": {
        "id": "B7VyQ2AvUosu"
      },
      "execution_count": 35,
      "outputs": []
    },
    {
      "cell_type": "code",
      "source": [
        "chars = chars_from_ids(ids)\n",
        "chars"
      ],
      "metadata": {
        "colab": {
          "base_uri": "https://localhost:8080/"
        },
        "id": "hFdfjAeKUrMv",
        "outputId": "83ff00da-0e03-4fd5-df16-f3d9bb403baa"
      },
      "execution_count": 36,
      "outputs": [
        {
          "output_type": "execute_result",
          "data": {
            "text/plain": [
              "<tf.RaggedTensor [[b'a', b'b', b'c', b'd', b'e', b'f', b'g'], [b'x', b'y', b'z']]>"
            ]
          },
          "metadata": {},
          "execution_count": 36
        }
      ]
    },
    {
      "cell_type": "code",
      "source": [
        "tf.strings.reduce_join(chars, axis=-1).numpy()"
      ],
      "metadata": {
        "colab": {
          "base_uri": "https://localhost:8080/"
        },
        "id": "7skd8GLmUuwK",
        "outputId": "825b9268-835f-443b-86e8-1fd0973ab781"
      },
      "execution_count": 37,
      "outputs": [
        {
          "output_type": "execute_result",
          "data": {
            "text/plain": [
              "array([b'abcdefg', b'xyz'], dtype=object)"
            ]
          },
          "metadata": {},
          "execution_count": 37
        }
      ]
    },
    {
      "cell_type": "code",
      "source": [
        "def text_from_ids(ids):\n",
        "  return tf.strings.reduce_join(chars_from_ids(ids), axis=-1)"
      ],
      "metadata": {
        "id": "GcXZI8TIU0qz"
      },
      "execution_count": 38,
      "outputs": []
    },
    {
      "cell_type": "markdown",
      "source": [
        "Prediksi"
      ],
      "metadata": {
        "id": "ci1_to9bVA3q"
      }
    },
    {
      "cell_type": "code",
      "source": [
        "all_ids = ids_from_chars(tf.strings.unicode_split(text, 'UTF-8'))\n",
        "all_ids"
      ],
      "metadata": {
        "colab": {
          "base_uri": "https://localhost:8080/"
        },
        "id": "hHGArySrVBZi",
        "outputId": "496ac309-f6e9-436d-9904-d76e3f669cab"
      },
      "execution_count": 39,
      "outputs": [
        {
          "output_type": "execute_result",
          "data": {
            "text/plain": [
              "<tf.Tensor: shape=(1115394,), dtype=int64, numpy=array([19, 48, 57, ..., 46,  9,  1])>"
            ]
          },
          "metadata": {},
          "execution_count": 39
        }
      ]
    },
    {
      "cell_type": "code",
      "source": [
        "ids_dataset = tf.data.Dataset.from_tensor_slices(all_ids)"
      ],
      "metadata": {
        "id": "vWeFaeWpVHzU"
      },
      "execution_count": 40,
      "outputs": []
    },
    {
      "cell_type": "code",
      "source": [
        "for ids in ids_dataset.take(10):\n",
        "  print(chars_from_ids(ids).numpy().decode('utf-8'))"
      ],
      "metadata": {
        "colab": {
          "base_uri": "https://localhost:8080/"
        },
        "id": "LyBiUevRVMWs",
        "outputId": "21ad3ad3-b4e5-4f18-eaa8-0ebfe1679f0a"
      },
      "execution_count": 41,
      "outputs": [
        {
          "output_type": "stream",
          "name": "stdout",
          "text": [
            "F\n",
            "i\n",
            "r\n",
            "s\n",
            "t\n",
            " \n",
            "C\n",
            "i\n",
            "t\n",
            "i\n"
          ]
        }
      ]
    },
    {
      "cell_type": "code",
      "source": [
        "seq_length = 100"
      ],
      "metadata": {
        "id": "eLuDLfMyVVQe"
      },
      "execution_count": 42,
      "outputs": []
    },
    {
      "cell_type": "code",
      "source": [
        "sequences = ids_dataset.batch(seq_length+1, drop_remainder=True)\n",
        "\n",
        "for seq in sequences.take(1):\n",
        "  print(chars_from_ids(seq))"
      ],
      "metadata": {
        "colab": {
          "base_uri": "https://localhost:8080/"
        },
        "id": "mnZojfUJVZ7E",
        "outputId": "75fbf46f-3446-4a5b-d878-27d528fbc0ac"
      },
      "execution_count": 43,
      "outputs": [
        {
          "output_type": "stream",
          "name": "stdout",
          "text": [
            "tf.Tensor(\n",
            "[b'F' b'i' b'r' b's' b't' b' ' b'C' b'i' b't' b'i' b'z' b'e' b'n' b':'\n",
            " b'\\n' b'B' b'e' b'f' b'o' b'r' b'e' b' ' b'w' b'e' b' ' b'p' b'r' b'o'\n",
            " b'c' b'e' b'e' b'd' b' ' b'a' b'n' b'y' b' ' b'f' b'u' b'r' b't' b'h'\n",
            " b'e' b'r' b',' b' ' b'h' b'e' b'a' b'r' b' ' b'm' b'e' b' ' b's' b'p'\n",
            " b'e' b'a' b'k' b'.' b'\\n' b'\\n' b'A' b'l' b'l' b':' b'\\n' b'S' b'p' b'e'\n",
            " b'a' b'k' b',' b' ' b's' b'p' b'e' b'a' b'k' b'.' b'\\n' b'\\n' b'F' b'i'\n",
            " b'r' b's' b't' b' ' b'C' b'i' b't' b'i' b'z' b'e' b'n' b':' b'\\n' b'Y'\n",
            " b'o' b'u' b' '], shape=(101,), dtype=string)\n"
          ]
        }
      ]
    },
    {
      "cell_type": "code",
      "source": [
        "for seq in sequences.take(5):\n",
        "  print(text_from_ids(seq).numpy())"
      ],
      "metadata": {
        "colab": {
          "base_uri": "https://localhost:8080/"
        },
        "id": "bMm-ANpJVdnd",
        "outputId": "5cca1654-e79b-4535-a623-2f0945e9ba7d"
      },
      "execution_count": 44,
      "outputs": [
        {
          "output_type": "stream",
          "name": "stdout",
          "text": [
            "b'First Citizen:\\nBefore we proceed any further, hear me speak.\\n\\nAll:\\nSpeak, speak.\\n\\nFirst Citizen:\\nYou '\n",
            "b'are all resolved rather to die than to famish?\\n\\nAll:\\nResolved. resolved.\\n\\nFirst Citizen:\\nFirst, you k'\n",
            "b\"now Caius Marcius is chief enemy to the people.\\n\\nAll:\\nWe know't, we know't.\\n\\nFirst Citizen:\\nLet us ki\"\n",
            "b\"ll him, and we'll have corn at our own price.\\nIs't a verdict?\\n\\nAll:\\nNo more talking on't; let it be d\"\n",
            "b'one: away, away!\\n\\nSecond Citizen:\\nOne word, good citizens.\\n\\nFirst Citizen:\\nWe are accounted poor citi'\n"
          ]
        }
      ]
    },
    {
      "cell_type": "code",
      "source": [
        "def split_input_target(sequence):\n",
        "  input_text = sequence[:-1]\n",
        "  target_text = sequence[1:]\n",
        "  return input_text, target_text"
      ],
      "metadata": {
        "id": "rCOXgzBFVkv8"
      },
      "execution_count": 45,
      "outputs": []
    },
    {
      "cell_type": "code",
      "source": [
        "split_input_target(list(\"Tensorflow\"))"
      ],
      "metadata": {
        "colab": {
          "base_uri": "https://localhost:8080/"
        },
        "id": "JkxE1dIMVyRV",
        "outputId": "a96ed7a2-e9c4-4ef7-9221-baf409363c37"
      },
      "execution_count": 46,
      "outputs": [
        {
          "output_type": "execute_result",
          "data": {
            "text/plain": [
              "(['T', 'e', 'n', 's', 'o', 'r', 'f', 'l', 'o'],\n",
              " ['e', 'n', 's', 'o', 'r', 'f', 'l', 'o', 'w'])"
            ]
          },
          "metadata": {},
          "execution_count": 46
        }
      ]
    },
    {
      "cell_type": "code",
      "source": [
        "dataset = sequences.map(split_input_target)"
      ],
      "metadata": {
        "id": "rSoTgWGyV0xR"
      },
      "execution_count": 47,
      "outputs": []
    },
    {
      "cell_type": "code",
      "source": [
        "for input_example, target_example in dataset.take(1):\n",
        "  print(\"Input :\", text_from_ids(input_example).numpy())\n",
        "  print(\"Target:\", text_from_ids(target_example).numpy())"
      ],
      "metadata": {
        "colab": {
          "base_uri": "https://localhost:8080/"
        },
        "id": "2o9BbrSiV41w",
        "outputId": "69455c87-a356-49d7-c027-152c540dbdaf"
      },
      "execution_count": 48,
      "outputs": [
        {
          "output_type": "stream",
          "name": "stdout",
          "text": [
            "Input : b'First Citizen:\\nBefore we proceed any further, hear me speak.\\n\\nAll:\\nSpeak, speak.\\n\\nFirst Citizen:\\nYou'\n",
            "Target: b'irst Citizen:\\nBefore we proceed any further, hear me speak.\\n\\nAll:\\nSpeak, speak.\\n\\nFirst Citizen:\\nYou '\n"
          ]
        }
      ]
    },
    {
      "cell_type": "code",
      "source": [
        "# Batch size\n",
        "BATCH_SIZE = 64\n",
        "\n",
        "# Buffer size to shuffle the dataset\n",
        "# (TF data is designed to work with possibly infinite sequences,\n",
        "# so it doesn't attempt to shuffle the entire sequence in memory. Instead,\n",
        "# it maintains a buffer in which it shuffles elements).\n",
        "BUFFER_SIZE = 10000\n",
        "\n",
        "dataset = (\n",
        "    dataset\n",
        "    .shuffle(BUFFER_SIZE)\n",
        "    .batch(BATCH_SIZE, drop_remainder=True)\n",
        "    .prefetch(tf.data.experimental.AUTOTUNE))\n",
        "\n",
        "dataset"
      ],
      "metadata": {
        "colab": {
          "base_uri": "https://localhost:8080/"
        },
        "id": "MDtrUI7XWEJc",
        "outputId": "bf25a83e-555e-4e36-a274-c8e4de39337c"
      },
      "execution_count": 49,
      "outputs": [
        {
          "output_type": "execute_result",
          "data": {
            "text/plain": [
              "<_PrefetchDataset element_spec=(TensorSpec(shape=(64, 100), dtype=tf.int64, name=None), TensorSpec(shape=(64, 100), dtype=tf.int64, name=None))>"
            ]
          },
          "metadata": {},
          "execution_count": 49
        }
      ]
    },
    {
      "cell_type": "markdown",
      "source": [
        "Buat Model"
      ],
      "metadata": {
        "id": "GD-v8n-qWIgb"
      }
    },
    {
      "cell_type": "code",
      "source": [
        "# Length of the vocabulary in StringLookup Layer\n",
        "vocab_size = len(ids_from_chars.get_vocabulary())\n",
        "\n",
        "# The embedding dimension\n",
        "embedding_dim = 256\n",
        "\n",
        "# Number of RNN units\n",
        "rnn_units = 1024"
      ],
      "metadata": {
        "id": "XtHJ1W20WKqw"
      },
      "execution_count": 50,
      "outputs": []
    },
    {
      "cell_type": "code",
      "source": [
        "class MyModel(tf.keras.Model):\n",
        "  def __init__(self, vocab_size, embedding_dim, rnn_units):\n",
        "    super().__init__(self)\n",
        "    self.embedding = tf.keras.layers.Embedding(vocab_size, embedding_dim)\n",
        "    self.gru = tf.keras.layers.GRU(rnn_units,\n",
        "                                   return_sequences=True,\n",
        "                                   return_state=True)\n",
        "    self.dense = tf.keras.layers.Dense(vocab_size)\n",
        "\n",
        "  def call(self, inputs, states=None, return_state=False, training=False):\n",
        "    x = inputs\n",
        "    x = self.embedding(x, training=training)\n",
        "    if states is None:\n",
        "      states = self.gru.get_initial_state(x)\n",
        "    x, states = self.gru(x, initial_state=states, training=training)\n",
        "    x = self.dense(x, training=training)\n",
        "\n",
        "    if return_state:\n",
        "      return x, states\n",
        "    else:\n",
        "      return x"
      ],
      "metadata": {
        "id": "q5P0VwJwWNQ-"
      },
      "execution_count": 51,
      "outputs": []
    },
    {
      "cell_type": "code",
      "source": [
        "model = MyModel(\n",
        "    vocab_size=vocab_size,\n",
        "    embedding_dim=embedding_dim,\n",
        "    rnn_units=rnn_units)"
      ],
      "metadata": {
        "id": "4EqnTWQpWPC4"
      },
      "execution_count": 52,
      "outputs": []
    },
    {
      "cell_type": "markdown",
      "source": [
        "Uji Model"
      ],
      "metadata": {
        "id": "J751WO5QWQjy"
      }
    },
    {
      "cell_type": "code",
      "source": [
        "for input_example_batch, target_example_batch in dataset.take(1):\n",
        "    example_batch_predictions = model(input_example_batch)\n",
        "    print(example_batch_predictions.shape, \"# (batch_size, sequence_length, vocab_size)\")"
      ],
      "metadata": {
        "colab": {
          "base_uri": "https://localhost:8080/"
        },
        "id": "XryfA4tjWSDg",
        "outputId": "b075aa04-5525-4fdb-f7b7-8403bb4986a0"
      },
      "execution_count": 53,
      "outputs": [
        {
          "output_type": "stream",
          "name": "stdout",
          "text": [
            "(64, 100, 66) # (batch_size, sequence_length, vocab_size)\n"
          ]
        }
      ]
    },
    {
      "cell_type": "code",
      "source": [
        "model.summary()"
      ],
      "metadata": {
        "colab": {
          "base_uri": "https://localhost:8080/"
        },
        "id": "SwXXDrS9WWWG",
        "outputId": "2a29fd26-3907-4c9e-e304-41966189e075"
      },
      "execution_count": 54,
      "outputs": [
        {
          "output_type": "stream",
          "name": "stdout",
          "text": [
            "Model: \"my_model\"\n",
            "_________________________________________________________________\n",
            " Layer (type)                Output Shape              Param #   \n",
            "=================================================================\n",
            " embedding_2 (Embedding)     multiple                  16896     \n",
            "                                                                 \n",
            " gru (GRU)                   multiple                  3938304   \n",
            "                                                                 \n",
            " dense_4 (Dense)             multiple                  67650     \n",
            "                                                                 \n",
            "=================================================================\n",
            "Total params: 4022850 (15.35 MB)\n",
            "Trainable params: 4022850 (15.35 MB)\n",
            "Non-trainable params: 0 (0.00 Byte)\n",
            "_________________________________________________________________\n"
          ]
        }
      ]
    },
    {
      "cell_type": "code",
      "source": [
        "sampled_indices = tf.random.categorical(example_batch_predictions[0], num_samples=1)\n",
        "sampled_indices = tf.squeeze(sampled_indices, axis=-1).numpy()"
      ],
      "metadata": {
        "id": "UxtXDVbsWZmN"
      },
      "execution_count": 56,
      "outputs": []
    },
    {
      "cell_type": "code",
      "source": [
        "sampled_indices"
      ],
      "metadata": {
        "colab": {
          "base_uri": "https://localhost:8080/"
        },
        "id": "omvrLx_6WvkB",
        "outputId": "33e3fe19-7ca9-4285-ecfe-c7c276e02943"
      },
      "execution_count": 57,
      "outputs": [
        {
          "output_type": "execute_result",
          "data": {
            "text/plain": [
              "array([59,  2,  0,  3, 54, 11,  4, 16,  8, 54, 65, 38, 41,  1, 15, 30, 55,\n",
              "        7, 65,  0, 35, 11, 46, 27, 44, 61, 44,  7, 17, 42, 13, 50, 40, 39,\n",
              "       37, 57, 33, 52,  5, 62, 40,  0, 24, 44, 61, 61, 45, 33, 14, 26, 11,\n",
              "       44, 32, 37, 29,  8, 60, 16, 59, 51, 27, 26,  6,  6, 31, 18, 26, 36,\n",
              "        0, 11, 54, 22, 39, 57, 27, 27, 60, 53, 54, 61, 45, 60, 25, 18, 63,\n",
              "       49, 40, 46,  6, 22, 53, 15,  5, 43,  7, 49,  2, 63,  5, 14])"
            ]
          },
          "metadata": {},
          "execution_count": 57
        }
      ]
    },
    {
      "cell_type": "code",
      "source": [
        "print(\"Input:\\n\", text_from_ids(input_example_batch[0]).numpy())\n",
        "print()\n",
        "print(\"Next Char Predictions:\\n\", text_from_ids(sampled_indices).numpy())"
      ],
      "metadata": {
        "colab": {
          "base_uri": "https://localhost:8080/"
        },
        "id": "tlsHtlx_WxYw",
        "outputId": "d4204ce5-3de0-4183-af8b-9b82d96a7798"
      },
      "execution_count": 58,
      "outputs": [
        {
          "output_type": "stream",
          "name": "stdout",
          "text": [
            "Input:\n",
            " b'im in the malmsey-butt\\nin the next room.\\n\\nSecond Murderer:\\nO excellent devise! make a sop of him.\\n\\nF'\n",
            "\n",
            "Next Char Predictions:\n",
            " b\"t [UNK]!o:$C-ozYb\\nBQp,z[UNK]V:gNeve,Dc?kaZXrTm&wa[UNK]KevvfTAM:eSXP-uCtlNM''REMW[UNK]:oIZrNNunovfuLExjag'InB&d,j x&A\"\n"
          ]
        }
      ]
    },
    {
      "cell_type": "markdown",
      "source": [
        "Train Model"
      ],
      "metadata": {
        "id": "dn8Hiw6vW3yc"
      }
    },
    {
      "cell_type": "code",
      "source": [
        "loss = tf.losses.SparseCategoricalCrossentropy(from_logits=True)"
      ],
      "metadata": {
        "id": "ZY0FK6b-W8I7"
      },
      "execution_count": 59,
      "outputs": []
    },
    {
      "cell_type": "code",
      "source": [
        "example_batch_mean_loss = loss(target_example_batch, example_batch_predictions)\n",
        "print(\"Prediction shape: \", example_batch_predictions.shape, \" # (batch_size, sequence_length, vocab_size)\")\n",
        "print(\"Mean loss:        \", example_batch_mean_loss)"
      ],
      "metadata": {
        "colab": {
          "base_uri": "https://localhost:8080/"
        },
        "id": "LwOA9ePIXBM3",
        "outputId": "6f99c601-b8d4-4a69-d1a5-f0ef9aeb36b3"
      },
      "execution_count": 60,
      "outputs": [
        {
          "output_type": "stream",
          "name": "stdout",
          "text": [
            "Prediction shape:  (64, 100, 66)  # (batch_size, sequence_length, vocab_size)\n",
            "Mean loss:         tf.Tensor(4.1896896, shape=(), dtype=float32)\n"
          ]
        }
      ]
    },
    {
      "cell_type": "code",
      "source": [
        "tf.exp(example_batch_mean_loss).numpy()"
      ],
      "metadata": {
        "colab": {
          "base_uri": "https://localhost:8080/"
        },
        "id": "QpBK2UgtXDrj",
        "outputId": "0e579d76-5918-4897-a987-afd6a6fb3643"
      },
      "execution_count": 61,
      "outputs": [
        {
          "output_type": "execute_result",
          "data": {
            "text/plain": [
              "66.002304"
            ]
          },
          "metadata": {},
          "execution_count": 61
        }
      ]
    },
    {
      "cell_type": "code",
      "source": [
        "model.compile(optimizer='adam', loss=loss)"
      ],
      "metadata": {
        "id": "scwoFqhGXGBN"
      },
      "execution_count": 62,
      "outputs": []
    },
    {
      "cell_type": "code",
      "source": [
        "# Directory where the checkpoints will be saved\n",
        "checkpoint_dir = './training_checkpoints'\n",
        "# Name of the checkpoint files\n",
        "checkpoint_prefix = os.path.join(checkpoint_dir, \"ckpt_{epoch}\")\n",
        "\n",
        "checkpoint_callback = tf.keras.callbacks.ModelCheckpoint(\n",
        "    filepath=checkpoint_prefix,\n",
        "    save_weights_only=True)"
      ],
      "metadata": {
        "id": "XYMx89UvXOz2"
      },
      "execution_count": 63,
      "outputs": []
    },
    {
      "cell_type": "code",
      "source": [
        "EPOCHS=20"
      ],
      "metadata": {
        "id": "OT20QGTWXR1V"
      },
      "execution_count": 64,
      "outputs": []
    },
    {
      "cell_type": "code",
      "source": [
        "history = model.fit(dataset, epochs=EPOCHS, callbacks=[checkpoint_callback])"
      ],
      "metadata": {
        "colab": {
          "base_uri": "https://localhost:8080/"
        },
        "id": "UYpYm5AFXVWf",
        "outputId": "61e03fd4-fcbd-4d43-ca4d-124098f4efa5"
      },
      "execution_count": 65,
      "outputs": [
        {
          "output_type": "stream",
          "name": "stdout",
          "text": [
            "Epoch 1/20\n",
            "172/172 [==============================] - 14s 57ms/step - loss: 2.7103\n",
            "Epoch 2/20\n",
            "172/172 [==============================] - 11s 58ms/step - loss: 1.9804\n",
            "Epoch 3/20\n",
            "172/172 [==============================] - 12s 61ms/step - loss: 1.7029\n",
            "Epoch 4/20\n",
            "172/172 [==============================] - 12s 61ms/step - loss: 1.5423\n",
            "Epoch 5/20\n",
            "172/172 [==============================] - 12s 59ms/step - loss: 1.4445\n",
            "Epoch 6/20\n",
            "172/172 [==============================] - 12s 59ms/step - loss: 1.3771\n",
            "Epoch 7/20\n",
            "172/172 [==============================] - 11s 57ms/step - loss: 1.3248\n",
            "Epoch 8/20\n",
            "172/172 [==============================] - 11s 57ms/step - loss: 1.2789\n",
            "Epoch 9/20\n",
            "172/172 [==============================] - 12s 58ms/step - loss: 1.2379\n",
            "Epoch 10/20\n",
            "172/172 [==============================] - 12s 58ms/step - loss: 1.1966\n",
            "Epoch 11/20\n",
            "172/172 [==============================] - 12s 58ms/step - loss: 1.1564\n",
            "Epoch 12/20\n",
            "172/172 [==============================] - 13s 60ms/step - loss: 1.1141\n",
            "Epoch 13/20\n",
            "172/172 [==============================] - 11s 57ms/step - loss: 1.0693\n",
            "Epoch 14/20\n",
            "172/172 [==============================] - 12s 60ms/step - loss: 1.0225\n",
            "Epoch 15/20\n",
            "172/172 [==============================] - 12s 59ms/step - loss: 0.9728\n",
            "Epoch 16/20\n",
            "172/172 [==============================] - 11s 57ms/step - loss: 0.9210\n",
            "Epoch 17/20\n",
            "172/172 [==============================] - 12s 59ms/step - loss: 0.8675\n",
            "Epoch 18/20\n",
            "172/172 [==============================] - 12s 61ms/step - loss: 0.8158\n",
            "Epoch 19/20\n",
            "172/172 [==============================] - 13s 57ms/step - loss: 0.7634\n",
            "Epoch 20/20\n",
            "172/172 [==============================] - 13s 60ms/step - loss: 0.7160\n"
          ]
        }
      ]
    },
    {
      "cell_type": "code",
      "source": [
        "class OneStep(tf.keras.Model):\n",
        "  def __init__(self, model, chars_from_ids, ids_from_chars, temperature=1.0):\n",
        "    super().__init__()\n",
        "    self.temperature = temperature\n",
        "    self.model = model\n",
        "    self.chars_from_ids = chars_from_ids\n",
        "    self.ids_from_chars = ids_from_chars\n",
        "\n",
        "    # Create a mask to prevent \"[UNK]\" from being generated.\n",
        "    skip_ids = self.ids_from_chars(['[UNK]'])[:, None]\n",
        "    sparse_mask = tf.SparseTensor(\n",
        "        # Put a -inf at each bad index.\n",
        "        values=[-float('inf')]*len(skip_ids),\n",
        "        indices=skip_ids,\n",
        "        # Match the shape to the vocabulary\n",
        "        dense_shape=[len(ids_from_chars.get_vocabulary())])\n",
        "    self.prediction_mask = tf.sparse.to_dense(sparse_mask)\n",
        "\n",
        "  @tf.function\n",
        "  def generate_one_step(self, inputs, states=None):\n",
        "    # Convert strings to token IDs.\n",
        "    input_chars = tf.strings.unicode_split(inputs, 'UTF-8')\n",
        "    input_ids = self.ids_from_chars(input_chars).to_tensor()\n",
        "\n",
        "    # Run the model.\n",
        "    # predicted_logits.shape is [batch, char, next_char_logits]\n",
        "    predicted_logits, states = self.model(inputs=input_ids, states=states,\n",
        "                                          return_state=True)\n",
        "    # Only use the last prediction.\n",
        "    predicted_logits = predicted_logits[:, -1, :]\n",
        "    predicted_logits = predicted_logits/self.temperature\n",
        "    # Apply the prediction mask: prevent \"[UNK]\" from being generated.\n",
        "    predicted_logits = predicted_logits + self.prediction_mask\n",
        "\n",
        "    # Sample the output logits to generate token IDs.\n",
        "    predicted_ids = tf.random.categorical(predicted_logits, num_samples=1)\n",
        "    predicted_ids = tf.squeeze(predicted_ids, axis=-1)\n",
        "\n",
        "    # Convert from token ids to characters\n",
        "    predicted_chars = self.chars_from_ids(predicted_ids)\n",
        "\n",
        "    # Return the characters and model state.\n",
        "    return predicted_chars, states"
      ],
      "metadata": {
        "id": "eDPOaHTkY1_Y"
      },
      "execution_count": 66,
      "outputs": []
    },
    {
      "cell_type": "code",
      "source": [
        "one_step_model = OneStep(model, chars_from_ids, ids_from_chars)"
      ],
      "metadata": {
        "id": "SW7OsjfwZGpo"
      },
      "execution_count": 67,
      "outputs": []
    },
    {
      "cell_type": "code",
      "source": [
        "start = time.time()\n",
        "states = None\n",
        "next_char = tf.constant(['ROMEO:'])\n",
        "result = [next_char]\n",
        "\n",
        "for n in range(1000):\n",
        "  next_char, states = one_step_model.generate_one_step(next_char, states=states)\n",
        "  result.append(next_char)\n",
        "\n",
        "result = tf.strings.join(result)\n",
        "end = time.time()\n",
        "print(result[0].numpy().decode('utf-8'), '\\n\\n' + '_'*80)\n",
        "print('\\nRun time:', end - start)"
      ],
      "metadata": {
        "colab": {
          "base_uri": "https://localhost:8080/"
        },
        "id": "BFAZfWywZUGy",
        "outputId": "e617f250-6f18-4f97-d733-7a470836a971"
      },
      "execution_count": 68,
      "outputs": [
        {
          "output_type": "stream",
          "name": "stdout",
          "text": [
            "ROMEO:\n",
            "O, that a miscarry aid, I warrant he, for being a king\n",
            "'Forth anon be done but that your gentle heart,\n",
            "Throw your throne, please some two days since,\n",
            "Perfocted parlication. Is he we'lled in the maid,\n",
            "Since you were dead, he'll pardon him.\n",
            "\n",
            "DUKE VINCENTIO:\n",
            "He did it not.\n",
            "\n",
            "PETRUCHIO:\n",
            "Confess, we have been in a beward, news are too harm, than\n",
            "Unloss, pardoning to him. Beny jointy.\n",
            "\n",
            "RICCAPUM:\n",
            "Here comes a bracious movery; if\n",
            "I am no hope to have her. Poor shipping!\n",
            "Come, another wakened as what we can persure.\n",
            "But I, present to thee?\n",
            "\n",
            "AUFIDIUS:\n",
            "I have done some cabtain counters' grasss,\n",
            "And bad more muricioning, after dirscern,\n",
            "Gails for this night instruction.\n",
            "As he says, if he come to me,\n",
            "To sit at it with some mildness plented pardon.\n",
            "\n",
            "JOHN OF GAUNT:\n",
            "Wilt thou, his mother way his pie-change to have made.\n",
            "\n",
            "Gaoler:\n",
            "I pray you, became of my wrongs:\n",
            "One that I seek to Friar Laughtor, Bianca\n",
            "Loved the gates of thine eye or\n",
            "stones,--\n",
            "\n",
            "SEBASTIAN:\n",
            "You have made for his title of your sheep-shea \n",
            "\n",
            "________________________________________________________________________________\n",
            "\n",
            "Run time: 3.7911226749420166\n"
          ]
        }
      ]
    },
    {
      "cell_type": "code",
      "source": [
        "start = time.time()\n",
        "states = None\n",
        "next_char = tf.constant(['ROMEO:', 'ROMEO:', 'ROMEO:', 'ROMEO:', 'ROMEO:'])\n",
        "result = [next_char]\n",
        "\n",
        "for n in range(1000):\n",
        "  next_char, states = one_step_model.generate_one_step(next_char, states=states)\n",
        "  result.append(next_char)\n",
        "\n",
        "result = tf.strings.join(result)\n",
        "end = time.time()\n",
        "print(result, '\\n\\n' + '_'*80)\n",
        "print('\\nRun time:', end - start)"
      ],
      "metadata": {
        "colab": {
          "base_uri": "https://localhost:8080/"
        },
        "id": "bydxEDQmZYYG",
        "outputId": "ce7dc818-3ed0-4941-cacf-6a747d8586ee"
      },
      "execution_count": 69,
      "outputs": [
        {
          "output_type": "stream",
          "name": "stdout",
          "text": [
            "tf.Tensor(\n",
            "[b\"ROMEO:\\nGood hour, my friendshire.\\n\\nDUKE OF YORK:\\nTake nothing of a pall,\\nLeavy die thy hand in scarsp'd cuckol'd,\\nTheir bannet of my daughter's bosom's tyrant:\\nCome and not so much in my treasury,\\nWhen I am half, I will not follow us;\\nAnd I with tears unto thy hands and longer-sparent directions\\nacheed. Here in the back of this.\\n\\nMARCIUS:\\nNow, dear Juliet, we must be impatience.\\n\\nTailor:\\nA mind of you the stone with head and love;\\nFor whom, I chargement, so much more a soul-river:\\nAnd still my braving childer's like and waters, who\\nsupersted all thy opposite. Upony that deserved you hence conferenes to Say\\nI chy exterp a man with you; from him to draw thee\\nFaces again. Did you snow thine well, being smelt!\\nWill rest untilour kinsmen are at Ged,\\nAnd satisfy children a good duty to command.\\n\\nRICHARD:\\nO, wedness'd, Warwick!'\\n\\nSICINIUS:\\nThe queen met strength and spit at the traitor that I say\\n'Twere set my brother judgment; on poison need\\nTheir hundred, warm and lander'd,\\nBeing then, no bone, s\"\n",
            " b\"ROMEO:\\nOf good times, sweet Kate, I weigh it do.\\n\\nPETRUCHIO:\\nI say say he had brought you, thou liest. Have you suppose with me too young,\\nHas beauty thus; thou rascal-work, that bait's\\nWithin time may so far gone, for his knees\\nWill follow thee in Angelo was no further.\\n\\nKATHARINA:\\nWhy, is it Barnardine thee to bed in reviluading heart\\nUpon thy happiness is withing in spurth of heavens.\\nHere comes a meat, both gentle heavy embraces!\\nIt were imposs my gracious lord.\\n\\nGLOUCESTER:\\n\\nCAMILLO:\\nShe was the fairest friend of hell!\\nGo, Hastings, liberty; one's many air off,\\nWhich are mightine, and that my master king;\\nI may be well of my command me.\\n\\nHASTINGS:\\nTo Linement and in that truth may know.\\n\\nQUEEN ELIZABETH:\\nTake have your last each particular.\\n\\nMessenger:\\nExpoy that may betide to have let them go love.\\n\\nNurse:\\nMy heart blessed my lord,\\nShall fate the gallant sport us all.\\n\\nMENENIUS:\\nCondition! My very gods plead it\\nAnd plucker'd it: he stand here to my humane,\\nBut my arms partly valiant is\"\n",
            " b\"ROMEO:\\nGood friend, what say you?\\n\\nANGELO:\\nWell.\\n\\nELBOW:\\nHang a minute that made good upon priests being outwomn.\\nAnd with him humble than myself a foot, you come\\nso much obedient to but breath upon him.\\n\\nThird Citizen:\\nI am blunt beyond an after dark: i' the gaous cry\\nCapillo; marry, at Pomfret, our babes for yourself\\nBecause our suit of rich Captain Margaret,\\nHere come the Boaner proved bad, to see me truth would lie;\\nI do abide my father's gentleman with him\\nTo rave the rain of joyful wheels.---\\nA faulthous sings of botted and unto the house.\\nThere, his neck-but idnemignces, work to begin sharp mine.\\nGo thy whole darth nor enemies and injuried\\nShould keep thee scorn for the rest: like a cunning confess\\nPlunced to his advantage. Your best advantage,\\nYet rested by that word 'emjects;\\nAnd say 'Wilts up and down, elseechery is possess.\\nThis dagger, do I would be patient, bildets, plain,\\ngood man; we will bear all your eyes it as a passing life.\\nI promise you thus contlace a pair of falling,--\"\n",
            " b\"ROMEO:\\nThe day is so, and fearless death be perident\\nI thank my government that you must give them women\\nAnd framed to wie, that late in rags actord.\\n\\nLEONTES:\\nThou art a word:\\nMore die forbid this sharp achoss Torwarener with his bid\\nBegan to stand for coly of them.\\n\\nAUTOLYCUS:\\nNow, by my standard, Warwick, as I say?\\nThat I must I wot that makes under a bitter'd frailty.\\n\\nMENENIUS:\\nSir, Romeo, Jule? Rote, with smiling\\nFrom some famous blood of pride.\\nYet a whit I purpose him.\\n\\nLoRD Winger:\\nWell, well, we part.\\n\\nClIFFORD:\\nClown is the chaft, what once again, I live,\\nTwo crivio lives in our aithent blesting, kin,\\nOf as you are of days: nor now must be\\nThou causest destiny our wrongs and tapster,\\nAnd what tool muddasticelour\\nGrey-vanders.\\n\\nMENENIUS:\\nYou have attend me, if you love thy joy\\nThat approbed coutly approach a store,\\nCome, Coriolanus.\\n\\nCORIOLANUS:\\nSpur hap your men,\\nSign, south the causer with a gracious promise,\\nWhich often use that I were eyes, some devil actor.\\n\\nBUCKINGHAM:\\nWell, \"\n",
            " b\"ROMEO:\\nGood even, good Beating, am I send to bed:\\nYield-herds, hath the name of George to grief!\\nYour eye-close by the father therefore:\\nTurn, did he married me to it. Said he was there\\nno means of us: 'Ay if not we to stay.\\n\\nSOMERSET:\\nI'll join with you.\\nHear me, my liberty, and your dismalmer's\\nCupit and the father and his can\\nTullus for life me of a gain to do that earth,\\nThou cars'd lump Perfold; O, welcome got,\\nRepoot in him.\\nThou mayst be accident, if\\nHis gild-eviss, toward.\\n\\nCAMPSBELL:\\nYes, Put of slander those that hath been well,\\nThou noble that is this in each part of this\\ngentleman, come you to such a catalet\\nTo heap the golden time of death he cares on me.\\n\\nPOLIXENES:\\nI'll give: 'tis time; let her see it.\\n\\nFirst Citizen:\\nWhy that's battle; this is strange.\\n\\nESCALUS:\\n\\nBUCKINGHAM:\\nWhy, traitor, grave men, but thy aunt be removed.\\n\\nBoathway:\\nLet's be pittune to the fire, obey.\\n\\nPOMPEY:\\nWhy, madam, with a bandon'd trick of night;\\nShe was too confidence to be made,\\nA han-bed, by him w\"], shape=(5,), dtype=string) \n",
            "\n",
            "________________________________________________________________________________\n",
            "\n",
            "Run time: 3.5723764896392822\n"
          ]
        }
      ]
    },
    {
      "cell_type": "code",
      "source": [
        "tf.saved_model.save(one_step_model, 'one_step')\n",
        "one_step_reloaded = tf.saved_model.load('one_step')"
      ],
      "metadata": {
        "colab": {
          "base_uri": "https://localhost:8080/"
        },
        "id": "IJjJ3s1lZdIZ",
        "outputId": "b44e1f8a-1383-4634-d4b6-17e8ea674652"
      },
      "execution_count": 70,
      "outputs": [
        {
          "output_type": "stream",
          "name": "stderr",
          "text": [
            "WARNING:tensorflow:Skipping full serialization of Keras layer <__main__.OneStep object at 0x78ca28de3df0>, because it is not built.\n",
            "WARNING:tensorflow:Model's `__init__()` arguments contain non-serializable objects. Please implement a `get_config()` method in the subclassed Model for proper saving and loading. Defaulting to empty config.\n",
            "WARNING:tensorflow:Model's `__init__()` arguments contain non-serializable objects. Please implement a `get_config()` method in the subclassed Model for proper saving and loading. Defaulting to empty config.\n"
          ]
        }
      ]
    },
    {
      "cell_type": "code",
      "source": [
        "states = None\n",
        "next_char = tf.constant(['ROMEO:'])\n",
        "result = [next_char]\n",
        "\n",
        "for n in range(100):\n",
        "  next_char, states = one_step_reloaded.generate_one_step(next_char, states=states)\n",
        "  result.append(next_char)\n",
        "\n",
        "print(tf.strings.join(result)[0].numpy().decode(\"utf-8\"))"
      ],
      "metadata": {
        "colab": {
          "base_uri": "https://localhost:8080/"
        },
        "id": "oMGdoM3gZhNw",
        "outputId": "940a57f1-e4f3-424e-a070-284660790b1c"
      },
      "execution_count": 71,
      "outputs": [
        {
          "output_type": "stream",
          "name": "stdout",
          "text": [
            "ROMEO:\n",
            "O heavens! O wafe with him an art\n",
            "with't for stir! shall we go frown as true and livers stain the s\n"
          ]
        }
      ]
    },
    {
      "cell_type": "markdown",
      "source": [
        "**TUGAS**"
      ],
      "metadata": {
        "id": "6xd45mkDZjx6"
      }
    },
    {
      "cell_type": "code",
      "source": [
        "class CustomTraining(MyModel):\n",
        "  @tf.function\n",
        "  def train_step(self, inputs):\n",
        "    inputs, labels = inputs\n",
        "    with tf.GradientTape() as tape:\n",
        "      predictions = self(inputs, training=True)\n",
        "      loss = self.loss(labels, predictions)\n",
        "    grads = tape.gradient(loss, model.trainable_variables)\n",
        "    self.optimizer.apply_gradients(zip(grads, model.trainable_variables))\n",
        "\n",
        "    return {'loss': loss}"
      ],
      "metadata": {
        "id": "I5SY2_SJZqnQ"
      },
      "execution_count": 74,
      "outputs": []
    },
    {
      "cell_type": "code",
      "source": [
        "model = CustomTraining(\n",
        "    vocab_size=len(ids_from_chars.get_vocabulary()),\n",
        "    embedding_dim=embedding_dim,\n",
        "    rnn_units=rnn_units)"
      ],
      "metadata": {
        "id": "o-P62smfaq6k"
      },
      "execution_count": 75,
      "outputs": []
    },
    {
      "cell_type": "code",
      "source": [
        "model.compile(optimizer = tf.keras.optimizers.Adam(),\n",
        "              loss=tf.keras.losses.SparseCategoricalCrossentropy(from_logits=True))"
      ],
      "metadata": {
        "id": "P_UvaNQSavXu"
      },
      "execution_count": 76,
      "outputs": []
    },
    {
      "cell_type": "code",
      "source": [
        "model.fit(dataset, epochs=1)"
      ],
      "metadata": {
        "colab": {
          "base_uri": "https://localhost:8080/"
        },
        "id": "Az-LJDGUa0O5",
        "outputId": "00f7b99e-c144-41f2-d927-f5f62ce68edf"
      },
      "execution_count": 77,
      "outputs": [
        {
          "output_type": "stream",
          "name": "stdout",
          "text": [
            "172/172 [==============================] - 16s 56ms/step - loss: 2.7433\n"
          ]
        },
        {
          "output_type": "execute_result",
          "data": {
            "text/plain": [
              "<keras.src.callbacks.History at 0x78ca2876ec80>"
            ]
          },
          "metadata": {},
          "execution_count": 77
        }
      ]
    },
    {
      "cell_type": "code",
      "source": [
        "EPOCHS = 10\n",
        "\n",
        "mean = tf.metrics.Mean()\n",
        "\n",
        "for epoch in range(EPOCHS):\n",
        "    start = time.time()\n",
        "\n",
        "    mean.reset_states()\n",
        "    for (batch_n, (inp, target)) in enumerate(dataset):\n",
        "        logs = model.train_step([inp, target])\n",
        "        mean.update_state(logs['loss'])\n",
        "\n",
        "        if batch_n % 50 == 0:\n",
        "            template = f\"Epoch {epoch+1} Batch {batch_n} Loss {logs['loss']:.4f}\"\n",
        "            print(template)\n",
        "\n",
        "    # saving (checkpoint) the model every 5 epochs\n",
        "    if (epoch + 1) % 5 == 0:\n",
        "        model.save_weights(checkpoint_prefix.format(epoch=epoch))\n",
        "\n",
        "    print()\n",
        "    print(f'Epoch {epoch+1} Loss: {mean.result().numpy():.4f}')\n",
        "    print(f'Time taken for 1 epoch {time.time() - start:.2f} sec')\n",
        "    print(\"_\"*80)\n",
        "\n",
        "model.save_weights(checkpoint_prefix.format(epoch=epoch))"
      ],
      "metadata": {
        "colab": {
          "base_uri": "https://localhost:8080/"
        },
        "id": "aDYrMrZTbB_J",
        "outputId": "73fa06b3-b0e3-4ab6-e084-7247b150fe91"
      },
      "execution_count": 78,
      "outputs": [
        {
          "output_type": "stream",
          "name": "stdout",
          "text": [
            "Epoch 1 Batch 0 Loss 2.2055\n",
            "Epoch 1 Batch 50 Loss 2.0941\n",
            "Epoch 1 Batch 100 Loss 1.9610\n",
            "Epoch 1 Batch 150 Loss 1.8608\n",
            "\n",
            "Epoch 1 Loss: 2.0061\n",
            "Time taken for 1 epoch 13.84 sec\n",
            "________________________________________________________________________________\n",
            "Epoch 2 Batch 0 Loss 1.8513\n",
            "Epoch 2 Batch 50 Loss 1.7477\n",
            "Epoch 2 Batch 100 Loss 1.7144\n",
            "Epoch 2 Batch 150 Loss 1.6725\n",
            "\n",
            "Epoch 2 Loss: 1.7245\n",
            "Time taken for 1 epoch 11.59 sec\n",
            "________________________________________________________________________________\n",
            "Epoch 3 Batch 0 Loss 1.6038\n",
            "Epoch 3 Batch 50 Loss 1.5102\n",
            "Epoch 3 Batch 100 Loss 1.5588\n",
            "Epoch 3 Batch 150 Loss 1.5785\n",
            "\n",
            "Epoch 3 Loss: 1.5599\n",
            "Time taken for 1 epoch 12.10 sec\n",
            "________________________________________________________________________________\n",
            "Epoch 4 Batch 0 Loss 1.4124\n",
            "Epoch 4 Batch 50 Loss 1.4363\n",
            "Epoch 4 Batch 100 Loss 1.4255\n",
            "Epoch 4 Batch 150 Loss 1.4603\n",
            "\n",
            "Epoch 4 Loss: 1.4585\n",
            "Time taken for 1 epoch 11.50 sec\n",
            "________________________________________________________________________________\n",
            "Epoch 5 Batch 0 Loss 1.3984\n",
            "Epoch 5 Batch 50 Loss 1.4024\n",
            "Epoch 5 Batch 100 Loss 1.3775\n",
            "Epoch 5 Batch 150 Loss 1.3893\n",
            "\n",
            "Epoch 5 Loss: 1.3887\n",
            "Time taken for 1 epoch 11.37 sec\n",
            "________________________________________________________________________________\n",
            "Epoch 6 Batch 0 Loss 1.3328\n",
            "Epoch 6 Batch 50 Loss 1.3311\n",
            "Epoch 6 Batch 100 Loss 1.3618\n",
            "Epoch 6 Batch 150 Loss 1.3935\n",
            "\n",
            "Epoch 6 Loss: 1.3367\n",
            "Time taken for 1 epoch 20.47 sec\n",
            "________________________________________________________________________________\n",
            "Epoch 7 Batch 0 Loss 1.2759\n",
            "Epoch 7 Batch 50 Loss 1.3418\n",
            "Epoch 7 Batch 100 Loss 1.2606\n",
            "Epoch 7 Batch 150 Loss 1.3150\n",
            "\n",
            "Epoch 7 Loss: 1.2915\n",
            "Time taken for 1 epoch 11.41 sec\n",
            "________________________________________________________________________________\n",
            "Epoch 8 Batch 0 Loss 1.2384\n",
            "Epoch 8 Batch 50 Loss 1.2180\n",
            "Epoch 8 Batch 100 Loss 1.2547\n",
            "Epoch 8 Batch 150 Loss 1.2349\n",
            "\n",
            "Epoch 8 Loss: 1.2502\n",
            "Time taken for 1 epoch 11.33 sec\n",
            "________________________________________________________________________________\n",
            "Epoch 9 Batch 0 Loss 1.1844\n",
            "Epoch 9 Batch 50 Loss 1.1961\n",
            "Epoch 9 Batch 100 Loss 1.2099\n",
            "Epoch 9 Batch 150 Loss 1.2336\n",
            "\n",
            "Epoch 9 Loss: 1.2122\n",
            "Time taken for 1 epoch 12.05 sec\n",
            "________________________________________________________________________________\n",
            "Epoch 10 Batch 0 Loss 1.1490\n",
            "Epoch 10 Batch 50 Loss 1.1763\n",
            "Epoch 10 Batch 100 Loss 1.1967\n",
            "Epoch 10 Batch 150 Loss 1.2038\n",
            "\n",
            "Epoch 10 Loss: 1.1718\n",
            "Time taken for 1 epoch 11.90 sec\n",
            "________________________________________________________________________________\n"
          ]
        }
      ]
    },
    {
      "cell_type": "markdown",
      "source": [
        "**Perbedaan**"
      ],
      "metadata": {
        "id": "PjttwmeZgUiX"
      }
    },
    {
      "cell_type": "markdown",
      "source": [
        "Perbedaan utama antara tugas dan praktikum 2 terletak pada train yang digunakan. Praktikum 2 menggunakan train yang lebih umum dan sederhana dengan model.fit, sedangkan kode tuga menggunakan train yang khusus dan kompleks. Dalam pendekatan ini, ada penggunaan metode train_step dalam model turunan yang mengatur train pada tingkat batch. Ini melibatkan perhitungan loss, perhitungan gradien, peningkatan bobot model, dan pemanfaatan tf.metrics.Mean untuk menghitung rata-rata loss selama proses train. Dengan pendekatan ini, terdapat tingkat kontrol yang lebih besar dan fleksibilitas dalam mengatur proses train model."
      ],
      "metadata": {
        "id": "EvT_5iupgZZ6"
      }
    }
  ]
}